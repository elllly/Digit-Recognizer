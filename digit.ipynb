{
 "cells": [
  {
   "cell_type": "markdown",
   "metadata": {},
   "source": [
    "### Importing Library"
   ]
  },
  {
   "cell_type": "code",
   "execution_count": 1,
   "metadata": {},
   "outputs": [
    {
     "name": "stdout",
     "output_type": "stream",
     "text": [
      "WARNING:tensorflow:From c:\\Users\\Elahe\\AppData\\Local\\Programs\\Python\\Python310\\lib\\site-packages\\keras\\src\\losses.py:2976: The name tf.losses.sparse_softmax_cross_entropy is deprecated. Please use tf.compat.v1.losses.sparse_softmax_cross_entropy instead.\n",
      "\n"
     ]
    }
   ],
   "source": [
    "import tensorflow as tf"
   ]
  },
  {
   "cell_type": "code",
   "execution_count": 3,
   "metadata": {},
   "outputs": [],
   "source": [
    "import pandas as pd\n",
    "import numpy as np\n",
    "from keras.models import Sequential\n",
    "from keras.layers import Dense, Flatten\n",
    "from tensorflow.keras.utils import to_categorical\n",
    "from tensorflow.keras.layers import Conv2D, MaxPooling2D"
   ]
  },
  {
   "cell_type": "markdown",
   "metadata": {},
   "source": [
    "### Loading Data"
   ]
  },
  {
   "cell_type": "code",
   "execution_count": 6,
   "metadata": {},
   "outputs": [
    {
     "data": {
      "text/plain": [
       "((42000, 785), (28000, 784))"
      ]
     },
     "execution_count": 6,
     "metadata": {},
     "output_type": "execute_result"
    }
   ],
   "source": [
    "train = pd.read_csv('train.csv')\n",
    "test = pd.read_csv('test.csv')\n",
    "train.shape, test.shape"
   ]
  },
  {
   "cell_type": "code",
   "execution_count": 7,
   "metadata": {},
   "outputs": [],
   "source": [
    "x_train = train.drop(columns='label', axis=1)\n",
    "y_train = train['label']\n",
    "x_test = test"
   ]
  },
  {
   "cell_type": "code",
   "execution_count": 8,
   "metadata": {},
   "outputs": [
    {
     "data": {
      "text/plain": [
       "((42000, 28, 28, 1), (28000, 28, 28, 1))"
      ]
     },
     "execution_count": 8,
     "metadata": {},
     "output_type": "execute_result"
    }
   ],
   "source": [
    "x_train = x_train.to_numpy().reshape(-1, 28, 28, 1)\n",
    "x_test = x_test.to_numpy().reshape(-1, 28, 28, 1)\n",
    "x_train.shape, x_test.shape"
   ]
  },
  {
   "cell_type": "code",
   "execution_count": 6,
   "metadata": {},
   "outputs": [
    {
     "data": {
      "text/plain": [
       "10"
      ]
     },
     "execution_count": 6,
     "metadata": {},
     "output_type": "execute_result"
    }
   ],
   "source": [
    "y_train = to_categorical(y_train)\n",
    "num_classes = y_train.shape[1]\n",
    "num_classes"
   ]
  },
  {
   "cell_type": "markdown",
   "metadata": {},
   "source": [
    "### Build a Neural Network"
   ]
  },
  {
   "cell_type": "markdown",
   "metadata": {},
   "source": [
    "#### 1. One Convolution Layer"
   ]
  },
  {
   "cell_type": "code",
   "execution_count": 68,
   "metadata": {},
   "outputs": [],
   "source": [
    "def convolutional_model():\n",
    "    \n",
    "    # create model\n",
    "    model = Sequential()\n",
    "    model.add(Conv2D(16, (5, 5), strides=(1, 1), activation='relu', input_shape=(28, 28, 1)))\n",
    "    model.add(MaxPooling2D(pool_size=(2, 2), strides=(2, 2)))\n",
    "    \n",
    "    model.add(Flatten())\n",
    "    model.add(Dense(100, activation='relu'))\n",
    "    model.add(Dense(num_classes, activation='softmax'))\n",
    "    \n",
    "    # compile model\n",
    "    model.compile(optimizer='adam', loss='categorical_crossentropy',  metrics=['accuracy'])\n",
    "    return model"
   ]
  },
  {
   "cell_type": "code",
   "execution_count": 69,
   "metadata": {},
   "outputs": [
    {
     "name": "stdout",
     "output_type": "stream",
     "text": [
      "Epoch 1/10\n",
      "141/141 - 4s - loss: 2.8331 - accuracy: 0.8338 - val_loss: 0.3200 - val_accuracy: 0.9215 - 4s/epoch - 29ms/step\n",
      "Epoch 2/10\n",
      "141/141 - 4s - loss: 0.2151 - accuracy: 0.9446 - val_loss: 0.2139 - val_accuracy: 0.9460 - 4s/epoch - 26ms/step\n",
      "Epoch 3/10\n",
      "141/141 - 4s - loss: 0.1226 - accuracy: 0.9663 - val_loss: 0.1705 - val_accuracy: 0.9573 - 4s/epoch - 25ms/step\n",
      "Epoch 4/10\n",
      "141/141 - 4s - loss: 0.0749 - accuracy: 0.9782 - val_loss: 0.1443 - val_accuracy: 0.9638 - 4s/epoch - 26ms/step\n",
      "Epoch 5/10\n",
      "141/141 - 4s - loss: 0.0485 - accuracy: 0.9849 - val_loss: 0.1328 - val_accuracy: 0.9680 - 4s/epoch - 29ms/step\n",
      "Epoch 6/10\n",
      "141/141 - 5s - loss: 0.0350 - accuracy: 0.9890 - val_loss: 0.1367 - val_accuracy: 0.9701 - 5s/epoch - 34ms/step\n",
      "Epoch 7/10\n",
      "141/141 - 4s - loss: 0.0271 - accuracy: 0.9915 - val_loss: 0.1421 - val_accuracy: 0.9662 - 4s/epoch - 31ms/step\n",
      "Epoch 8/10\n",
      "141/141 - 4s - loss: 0.0191 - accuracy: 0.9940 - val_loss: 0.1296 - val_accuracy: 0.9716 - 4s/epoch - 30ms/step\n",
      "Epoch 9/10\n",
      "141/141 - 4s - loss: 0.0117 - accuracy: 0.9972 - val_loss: 0.1321 - val_accuracy: 0.9735 - 4s/epoch - 30ms/step\n",
      "Epoch 10/10\n",
      "141/141 - 4s - loss: 0.0080 - accuracy: 0.9977 - val_loss: 0.1289 - val_accuracy: 0.9757 - 4s/epoch - 30ms/step\n"
     ]
    },
    {
     "data": {
      "text/plain": [
       "<keras.callbacks.History at 0x1d7adc49b40>"
      ]
     },
     "execution_count": 69,
     "metadata": {},
     "output_type": "execute_result"
    }
   ],
   "source": [
    "model = convolutional_model()\n",
    "model.fit(x_train, y_train, validation_split=0.33, epochs=10, batch_size=200, verbose=2)"
   ]
  },
  {
   "cell_type": "code",
   "execution_count": 70,
   "metadata": {},
   "outputs": [],
   "source": [
    "predictions = model.predict(x_test)\n",
    "predictions = [np.argmax(pre) for pre in predictions]\n",
    "#predictions"
   ]
  },
  {
   "cell_type": "code",
   "execution_count": 71,
   "metadata": {},
   "outputs": [],
   "source": [
    "ID = np.arange(1, 28001)\n",
    "submitted_data = pd.DataFrame({'ImageId': ID, 'Label': predictions})\n",
    "submitted_data['Label'] = submitted_data['Label'].astype(int)\n",
    "submitted_data.set_index('ImageId', inplace=True)\n",
    "submitted_data.to_csv('Output.csv')"
   ]
  },
  {
   "cell_type": "markdown",
   "metadata": {},
   "source": [
    "#### 2. Two Convolution Layers"
   ]
  },
  {
   "cell_type": "code",
   "execution_count": 72,
   "metadata": {},
   "outputs": [],
   "source": [
    "def convolutional_model():\n",
    "    \n",
    "    # create model\n",
    "    model = Sequential()\n",
    "    model.add(Conv2D(16, (5, 5), activation='relu', input_shape=(28, 28, 1)))\n",
    "    model.add(MaxPooling2D(pool_size=(2, 2), strides=(2, 2)))\n",
    "    \n",
    "    model.add(Conv2D(8, (2, 2), activation='relu'))\n",
    "    model.add(MaxPooling2D(pool_size=(2, 2), strides=(2, 2)))\n",
    "    \n",
    "    model.add(Flatten())\n",
    "    model.add(Dense(100, activation='relu'))\n",
    "    model.add(Dense(num_classes, activation='softmax'))\n",
    "    \n",
    "    # Compile model\n",
    "    model.compile(optimizer='adam', loss='categorical_crossentropy',  metrics=['accuracy'])\n",
    "    return model"
   ]
  },
  {
   "cell_type": "code",
   "execution_count": 73,
   "metadata": {},
   "outputs": [
    {
     "name": "stdout",
     "output_type": "stream",
     "text": [
      "Epoch 1/10\n",
      "141/141 - 5s - loss: 3.1490 - accuracy: 0.6665 - val_loss: 0.3714 - val_accuracy: 0.8922 - 5s/epoch - 34ms/step\n",
      "Epoch 2/10\n",
      "141/141 - 5s - loss: 0.2959 - accuracy: 0.9155 - val_loss: 0.2300 - val_accuracy: 0.9317 - 5s/epoch - 32ms/step\n",
      "Epoch 3/10\n",
      "141/141 - 4s - loss: 0.1904 - accuracy: 0.9431 - val_loss: 0.1859 - val_accuracy: 0.9430 - 4s/epoch - 29ms/step\n",
      "Epoch 4/10\n",
      "141/141 - 4s - loss: 0.1377 - accuracy: 0.9594 - val_loss: 0.1610 - val_accuracy: 0.9511 - 4s/epoch - 30ms/step\n",
      "Epoch 5/10\n",
      "141/141 - 5s - loss: 0.1080 - accuracy: 0.9676 - val_loss: 0.1479 - val_accuracy: 0.9556 - 5s/epoch - 34ms/step\n",
      "Epoch 6/10\n",
      "141/141 - 6s - loss: 0.0876 - accuracy: 0.9735 - val_loss: 0.1344 - val_accuracy: 0.9607 - 6s/epoch - 40ms/step\n",
      "Epoch 7/10\n",
      "141/141 - 5s - loss: 0.0706 - accuracy: 0.9786 - val_loss: 0.1320 - val_accuracy: 0.9612 - 5s/epoch - 35ms/step\n",
      "Epoch 8/10\n",
      "141/141 - 5s - loss: 0.0606 - accuracy: 0.9813 - val_loss: 0.1300 - val_accuracy: 0.9623 - 5s/epoch - 34ms/step\n",
      "Epoch 9/10\n",
      "141/141 - 5s - loss: 0.0519 - accuracy: 0.9840 - val_loss: 0.1268 - val_accuracy: 0.9654 - 5s/epoch - 34ms/step\n",
      "Epoch 10/10\n",
      "141/141 - 5s - loss: 0.0430 - accuracy: 0.9869 - val_loss: 0.1269 - val_accuracy: 0.9662 - 5s/epoch - 34ms/step\n"
     ]
    },
    {
     "data": {
      "text/plain": [
       "<keras.callbacks.History at 0x1d7ad909420>"
      ]
     },
     "execution_count": 73,
     "metadata": {},
     "output_type": "execute_result"
    }
   ],
   "source": [
    "model = convolutional_model()\n",
    "model.fit(x_train, y_train, validation_split=0.33, epochs=10, batch_size=200, verbose=2)"
   ]
  },
  {
   "cell_type": "code",
   "execution_count": 74,
   "metadata": {},
   "outputs": [],
   "source": [
    "predictions = model.predict(x_test)\n",
    "predictions = [np.argmax(pre) for pre in predictions]"
   ]
  },
  {
   "cell_type": "code",
   "execution_count": 75,
   "metadata": {},
   "outputs": [],
   "source": [
    "ID = np.arange(1, 28001)\n",
    "submitted_data = pd.DataFrame({'ImageId': ID, 'Label': predictions})\n",
    "submitted_data['Label'] = submitted_data['Label'].astype(int)\n",
    "submitted_data.set_index('ImageId', inplace=True)\n",
    "submitted_data.to_csv('Output.csv')"
   ]
  },
  {
   "cell_type": "markdown",
   "metadata": {},
   "source": [
    "#### 3. Three Convolution Layers"
   ]
  },
  {
   "cell_type": "code",
   "execution_count": 11,
   "metadata": {},
   "outputs": [],
   "source": [
    "def convolutional_model():\n",
    "    model = Sequential()\n",
    "    model.add(Conv2D(32, (3, 3), activation='relu', input_shape=(28, 28, 1)))\n",
    "    model.add(MaxPooling2D((2, 2)))\n",
    "    model.add(Conv2D(64, (3, 3), activation='relu'))\n",
    "    model.add(MaxPooling2D((2, 2)))\n",
    "    model.add(Conv2D(64, (3, 3), activation='relu'))\n",
    "    model.add(Flatten())\n",
    "    model.add(Dense(64, activation='relu'))\n",
    "    model.add(Dense(num_classes, activation='softmax'))  # 10 output classes for digits 0-9\n",
    "\n",
    "    # Compile the model\n",
    "    model.compile(optimizer='adam', loss='categorical_crossentropy', metrics=['accuracy'])\n",
    "    return model"
   ]
  },
  {
   "cell_type": "code",
   "execution_count": 12,
   "metadata": {},
   "outputs": [
    {
     "name": "stdout",
     "output_type": "stream",
     "text": [
      "Epoch 1/10\n",
      "525/525 [==============================] - 11s 21ms/step - loss: 0.6742 - accuracy: 0.8788 - val_loss: 0.1419 - val_accuracy: 0.9573\n",
      "Epoch 2/10\n",
      "525/525 [==============================] - 11s 21ms/step - loss: 0.1171 - accuracy: 0.9641 - val_loss: 0.0973 - val_accuracy: 0.9705\n",
      "Epoch 3/10\n",
      "525/525 [==============================] - 11s 21ms/step - loss: 0.0710 - accuracy: 0.9782 - val_loss: 0.0800 - val_accuracy: 0.9780\n",
      "Epoch 4/10\n",
      "525/525 [==============================] - 11s 22ms/step - loss: 0.0520 - accuracy: 0.9841 - val_loss: 0.0842 - val_accuracy: 0.9754\n",
      "Epoch 5/10\n",
      "525/525 [==============================] - 11s 21ms/step - loss: 0.0457 - accuracy: 0.9856 - val_loss: 0.0569 - val_accuracy: 0.9840\n",
      "Epoch 6/10\n",
      "525/525 [==============================] - 11s 21ms/step - loss: 0.0342 - accuracy: 0.9892 - val_loss: 0.0716 - val_accuracy: 0.9817\n",
      "Epoch 7/10\n",
      "525/525 [==============================] - 12s 23ms/step - loss: 0.0311 - accuracy: 0.9898 - val_loss: 0.0604 - val_accuracy: 0.9836\n",
      "Epoch 8/10\n",
      "525/525 [==============================] - 12s 23ms/step - loss: 0.0265 - accuracy: 0.9910 - val_loss: 0.0820 - val_accuracy: 0.9819\n",
      "Epoch 9/10\n",
      "525/525 [==============================] - 12s 24ms/step - loss: 0.0299 - accuracy: 0.9900 - val_loss: 0.0625 - val_accuracy: 0.9831\n",
      "Epoch 10/10\n",
      "525/525 [==============================] - 13s 24ms/step - loss: 0.0232 - accuracy: 0.9925 - val_loss: 0.0819 - val_accuracy: 0.9839\n"
     ]
    },
    {
     "data": {
      "text/plain": [
       "<keras.callbacks.History at 0x22a190d8cd0>"
      ]
     },
     "execution_count": 12,
     "metadata": {},
     "output_type": "execute_result"
    }
   ],
   "source": [
    "model = convolutional_model()\n",
    "model.fit(x_train, y_train, epochs=10, batch_size=64, validation_split=0.2)"
   ]
  },
  {
   "cell_type": "code",
   "execution_count": 9,
   "metadata": {},
   "outputs": [],
   "source": [
    "predictions = model.predict(x_test)\n",
    "predictions = [np.argmax(pre) for pre in predictions]"
   ]
  },
  {
   "cell_type": "code",
   "execution_count": 10,
   "metadata": {},
   "outputs": [],
   "source": [
    "ID = np.arange(1, 28001)\n",
    "submitted_data = pd.DataFrame({'ImageId': ID, 'Label': predictions})\n",
    "submitted_data['Label'] = submitted_data['Label'].astype(int)\n",
    "submitted_data.set_index('ImageId', inplace=True)\n",
    "submitted_data.to_csv('Output.csv')"
   ]
  },
  {
   "cell_type": "code",
   "execution_count": null,
   "metadata": {},
   "outputs": [],
   "source": []
  }
 ],
 "metadata": {
  "kernelspec": {
   "display_name": "Python 3",
   "language": "python",
   "name": "python3"
  },
  "language_info": {
   "codemirror_mode": {
    "name": "ipython",
    "version": 3
   },
   "file_extension": ".py",
   "mimetype": "text/x-python",
   "name": "python",
   "nbconvert_exporter": "python",
   "pygments_lexer": "ipython3",
   "version": "3.10.5"
  }
 },
 "nbformat": 4,
 "nbformat_minor": 2
}
